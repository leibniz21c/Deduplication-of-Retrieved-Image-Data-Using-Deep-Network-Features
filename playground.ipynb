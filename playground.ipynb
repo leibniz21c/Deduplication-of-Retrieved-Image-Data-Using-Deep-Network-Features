{
 "cells": [
  {
   "cell_type": "code",
   "execution_count": 13,
   "metadata": {},
   "outputs": [],
   "source": [
    "from shutil import copyfile\n",
    "import os\n",
    "\n",
    "from dupimage.extractor.vgg19_custom_layer.features6272_features25088 import Features6272_Features25088\n",
    "from dupimage.tools import get_clusters\n",
    "\n",
    "DEFUALT_RESULT_DIR_PATH = '/result/'\n",
    "\n",
    "def remove_dup_images(\n",
    "    root_dir: str,\n",
    "    suffix='jpg',\n",
    "    result_dir=None\n",
    "):\n",
    "    # default result directory\n",
    "    if result_dir == None:\n",
    "        if not os.path.exists(root_dir + DEFUALT_RESULT_DIR_PATH):\n",
    "            os.makedirs(root_dir + DEFUALT_RESULT_DIR_PATH)\n",
    "        result_dir = root_dir + DEFUALT_RESULT_DIR_PATH\n",
    "\n",
    "    # get cluster\n",
    "    predict, labels = get_clusters(\n",
    "        extractor=Features6272_Features25088(\n",
    "            root_dir=root_dir, \n",
    "            suffix=suffix, \n",
    "            batch_size=64, \n",
    "            num_workers=1),\n",
    "        threshold=0.2)\n",
    "    \n",
    "    # lables\n",
    "    labels_set = set(labels)\n",
    "    predicted_labels_set = set()\n",
    "\n",
    "    n_clusters = max(predict)\n",
    "    cluster_list = [False for i in range(n_clusters + 1)]\n",
    "\n",
    "    for i, cluster in enumerate(predict):\n",
    "        if cluster_list[cluster] == False:\n",
    "            cluster_list[cluster] = True    \n",
    "            predicted_labels_set.add(labels[i])\n",
    "\n",
    "    for image in predicted_labels_set:\n",
    "        copyfile(image, result_dir + '/' + image.split('/')[-1])"
   ]
  },
  {
   "cell_type": "code",
   "execution_count": 14,
   "metadata": {},
   "outputs": [],
   "source": [
    "remove_dup_images('testset')"
   ]
  }
 ],
 "metadata": {
  "interpreter": {
   "hash": "31f2aee4e71d21fbe5cf8b01ff0e069b9275f58929596ceb00d14d90e3e16cd6"
  },
  "kernelspec": {
   "display_name": "Python 3.8.10 64-bit",
   "name": "python3"
  },
  "language_info": {
   "codemirror_mode": {
    "name": "ipython",
    "version": 3
   },
   "file_extension": ".py",
   "mimetype": "text/x-python",
   "name": "python",
   "nbconvert_exporter": "python",
   "pygments_lexer": "ipython3",
   "version": "3.8.10"
  },
  "orig_nbformat": 4
 },
 "nbformat": 4,
 "nbformat_minor": 2
}

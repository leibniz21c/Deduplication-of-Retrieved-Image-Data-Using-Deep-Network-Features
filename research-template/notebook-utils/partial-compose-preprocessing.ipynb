{
 "cells": [
  {
   "cell_type": "markdown",
   "metadata": {},
   "source": [
    "# Dupimage VGG19 Partial Compose Preprocessing\n",
    "\n",
    "From KSC 2021"
   ]
  },
  {
   "cell_type": "markdown",
   "metadata": {},
   "source": [
    "# California-ND Sample Preprocessing"
   ]
  },
  {
   "cell_type": "code",
   "execution_count": 1,
   "metadata": {},
   "outputs": [],
   "source": [
    "import os\n",
    "from tqdm import tqdm\n",
    "import torch\n",
    "from data_loaders import ImageDataLoader\n",
    "from model import VGGPartialCompose"
   ]
  },
  {
   "cell_type": "code",
   "execution_count": 2,
   "metadata": {},
   "outputs": [
    {
     "name": "stderr",
     "output_type": "stream",
     "text": [
      "100%|██████████| 6/6 [00:02<00:00,  2.42it/s]\n"
     ]
    }
   ],
   "source": [
    "root = \"/datasets/sample-california-nd-2022-03-31/\"\n",
    "images_dir = root + \"images/\"\n",
    "preprocessed_dir = root + \"preprocessed/\"\n",
    "n_components = 20\n",
    "batch_size = 128\n",
    "\n",
    "# Get dataloader\n",
    "images_dataloader = ImageDataLoader(root=images_dir, batch_size=batch_size)\n",
    "\n",
    "# Get device\n",
    "device = torch.device('cuda:0' if torch.cuda.is_available() else 'cpu')\n",
    "\n",
    "# Contents features\n",
    "features = None\n",
    "vgg_partial_compose = VGGPartialCompose().to(device)\n",
    "vgg_partial_compose.eval()\n",
    "with torch.no_grad():\n",
    "    for i, (data, _) in enumerate(tqdm(images_dataloader)):\n",
    "        data = data.to(device)\n",
    "        output = vgg_partial_compose(data)\n",
    "        if features is None:\n",
    "            features = output\n",
    "        else:\n",
    "            features = torch.cat([features, output], dim=0)\n",
    "\n",
    "torch.save(features, preprocessed_dir + 'vgg-partial-compose.pt')"
   ]
  },
  {
   "cell_type": "markdown",
   "metadata": {},
   "source": [
    "# MFND-IND Preprocessing"
   ]
  },
  {
   "cell_type": "code",
   "execution_count": 4,
   "metadata": {},
   "outputs": [
    {
     "name": "stderr",
     "output_type": "stream",
     "text": [
      "100%|██████████| 146/146 [01:21<00:00,  1.79it/s]\n"
     ]
    }
   ],
   "source": [
    "root = \"/datasets/sample-mfnd-ind-2022-03-31/\"\n",
    "images_dir = root + \"images/\"\n",
    "preprocessed_dir = root + \"preprocessed/\"\n",
    "n_components = 20\n",
    "batch_size = 128\n",
    "\n",
    "# Get dataloader\n",
    "images_dataloader = ImageDataLoader(root=images_dir, batch_size=batch_size)\n",
    "\n",
    "# Get device\n",
    "device = torch.device('cuda:0' if torch.cuda.is_available() else 'cpu')\n",
    "\n",
    "# Contents features\n",
    "features = None\n",
    "vgg_partial_compose = VGGPartialCompose().to(device)\n",
    "vgg_partial_compose.eval()\n",
    "with torch.no_grad():\n",
    "    for i, (data, _) in enumerate(tqdm(images_dataloader)):\n",
    "        data = data.to(device)\n",
    "        output = vgg_partial_compose(data)\n",
    "        if features is None:\n",
    "            features = output\n",
    "        else:\n",
    "            features = torch.cat([features, output], dim=0)\n",
    "\n",
    "torch.save(features, preprocessed_dir + 'vgg-partial-compose.pt')"
   ]
  },
  {
   "cell_type": "markdown",
   "metadata": {},
   "source": [
    "# MFND-ALL Preprocessing"
   ]
  },
  {
   "cell_type": "code",
   "execution_count": 2,
   "metadata": {},
   "outputs": [
    {
     "name": "stderr",
     "output_type": "stream",
     "text": [
      "100%|██████████| 662/662 [14:04<00:00,  1.28s/it]\n"
     ]
    }
   ],
   "source": [
    "root = \"/datasets/sample-mfnd-all-2022-03-31/\"\n",
    "images_dir = root + \"images/\"\n",
    "preprocessed_dir = root + \"preprocessed/\"\n",
    "n_components = 20\n",
    "batch_size = 128\n",
    "\n",
    "# Get dataloader\n",
    "images_dataloader = ImageDataLoader(root=images_dir, batch_size=batch_size)\n",
    "\n",
    "# Get device\n",
    "device = torch.device('cuda:0' if torch.cuda.is_available() else 'cpu')\n",
    "\n",
    "# Contents features\n",
    "features = None\n",
    "vgg_partial_compose = VGGPartialCompose().to(device)\n",
    "vgg_partial_compose.eval()\n",
    "with torch.no_grad():\n",
    "    for i, (data, _) in enumerate(tqdm(images_dataloader)):\n",
    "        data = data.to(device)\n",
    "        output = vgg_partial_compose(data)\n",
    "        if features is None:\n",
    "            features = output\n",
    "        else:\n",
    "            features = torch.cat([features, output], dim=0)"
   ]
  },
  {
   "cell_type": "markdown",
   "metadata": {},
   "source": [
    "---"
   ]
  },
  {
   "cell_type": "code",
   "execution_count": 14,
   "metadata": {},
   "outputs": [
    {
     "ename": "TypeError",
     "evalue": "transpose_() missing 2 required positional argument: \"dim0\", \"dim1\"",
     "output_type": "error",
     "traceback": [
      "\u001b[0;31m---------------------------------------------------------------------------\u001b[0m",
      "\u001b[0;31mTypeError\u001b[0m                                 Traceback (most recent call last)",
      "\u001b[0;32m/tmp/ipykernel_555/374359643.py\u001b[0m in \u001b[0;36m<module>\u001b[0;34m\u001b[0m\n\u001b[1;32m      5\u001b[0m \u001b[0;32mif\u001b[0m \u001b[0;36m10\u001b[0m \u001b[0;34m*\u001b[0m \u001b[0mfeatures\u001b[0m\u001b[0;34m.\u001b[0m\u001b[0mshape\u001b[0m\u001b[0;34m[\u001b[0m\u001b[0;36m0\u001b[0m\u001b[0;34m]\u001b[0m \u001b[0;34m<\u001b[0m \u001b[0mfeatures\u001b[0m\u001b[0;34m.\u001b[0m\u001b[0mshape\u001b[0m\u001b[0;34m[\u001b[0m\u001b[0;36m1\u001b[0m\u001b[0;34m]\u001b[0m\u001b[0;34m:\u001b[0m\u001b[0;34m\u001b[0m\u001b[0;34m\u001b[0m\u001b[0m\n\u001b[1;32m      6\u001b[0m     \u001b[0mhigh_singularity\u001b[0m \u001b[0;34m=\u001b[0m \u001b[0;32mTrue\u001b[0m\u001b[0;34m\u001b[0m\u001b[0;34m\u001b[0m\u001b[0m\n\u001b[0;32m----> 7\u001b[0;31m     \u001b[0mfeatures\u001b[0m\u001b[0;34m.\u001b[0m\u001b[0mtranspose_\u001b[0m\u001b[0;34m(\u001b[0m\u001b[0;34m)\u001b[0m\u001b[0;34m\u001b[0m\u001b[0;34m\u001b[0m\u001b[0m\n\u001b[0m\u001b[1;32m      8\u001b[0m     \u001b[0mfeatures\u001b[0m\u001b[0;34m.\u001b[0m\u001b[0mtranspose_\u001b[0m\u001b[0;34m(\u001b[0m\u001b[0;36m0\u001b[0m\u001b[0;34m,\u001b[0m \u001b[0;36m1\u001b[0m\u001b[0;34m)\u001b[0m\u001b[0;34m\u001b[0m\u001b[0;34m\u001b[0m\u001b[0m\n\u001b[1;32m      9\u001b[0m \u001b[0;34m\u001b[0m\u001b[0m\n",
      "\u001b[0;31mTypeError\u001b[0m: transpose_() missing 2 required positional argument: \"dim0\", \"dim1\""
     ]
    }
   ],
   "source": [
    "#def cupca_embedding(features: torch.Tensor, n_components):\n",
    "n_components = 20\n",
    "\n",
    "# Check singularity\n",
    "if 10 * features.shape[0] < features.shape[1]:\n",
    "    high_singularity = True\n",
    "    features.transpose_()\n",
    "    features.transpose_(0, 1)\n",
    "\n",
    "# Centering\n",
    "features.sub_(features.mean(axis=0))    \n",
    "\n",
    "# Get covariance matrix\n",
    "cov_mat = torch.matmul(features.T, features)\n",
    "eigvalues, eigvec = torch.linalg.eig(cov_mat)"
   ]
  },
  {
   "cell_type": "code",
   "execution_count": null,
   "metadata": {},
   "outputs": [],
   "source": [
    "cov_mat = torch.matmul(features.T, features)\n",
    "_, eigvec = torch.linalg.eig(cov_mat)\n",
    "\n",
    "eigvec.shape"
   ]
  },
  {
   "cell_type": "code",
   "execution_count": null,
   "metadata": {},
   "outputs": [],
   "source": [
    "# Dimensionality reduction with PCA\n",
    "features_mean = features.mean(axis=0)\n",
    "features_std = features.std(axis=0)\n",
    "_, _, transpose_matrix = torch.pca_lowrank(features, q=n_components, center=True)\n",
    "\n",
    "# Normalization\n",
    "features.subtract_(features_mean)\n",
    "features.divide_(features_std)\n",
    "\n",
    "# Memory reduction\n",
    "torch.cuda.empty_cache()\n",
    "features = features@transpose_matrix\n",
    "\n",
    "\n",
    "# Create sample dataset directory\n",
    "if not os.path.exists(preprocessed_dir):\n",
    "    os.makedirs(preprocessed_dir)"
   ]
  }
 ],
 "metadata": {
  "interpreter": {
   "hash": "d4d1e4263499bec80672ea0156c357c1ee493ec2b1c70f0acce89fc37c4a6abe"
  },
  "kernelspec": {
   "display_name": "Python 3 (ipykernel)",
   "language": "python",
   "name": "python3"
  },
  "language_info": {
   "codemirror_mode": {
    "name": "ipython",
    "version": 3
   },
   "file_extension": ".py",
   "mimetype": "text/x-python",
   "name": "python",
   "nbconvert_exporter": "python",
   "pygments_lexer": "ipython3",
   "version": "3.8.12"
  }
 },
 "nbformat": 4,
 "nbformat_minor": 4
}
